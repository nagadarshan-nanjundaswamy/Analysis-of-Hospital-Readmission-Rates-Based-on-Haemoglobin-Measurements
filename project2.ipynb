{
 "cells": [
  {
   "cell_type": "markdown",
   "id": "8d2f9103",
   "metadata": {},
   "source": [
    "### Diabetes data: 3 class classification"
   ]
  },
  {
   "cell_type": "code",
   "execution_count": 20,
   "id": "3f0c0b4b",
   "metadata": {},
   "outputs": [],
   "source": [
    "import numpy as np\n",
    "import pandas as pd"
   ]
  },
  {
   "cell_type": "code",
   "execution_count": 2,
   "id": "52653d2f",
   "metadata": {},
   "outputs": [],
   "source": [
    "df = pd.read_csv('diabetic_data.csv')\n",
    "df = df.drop(['encounter_id', 'age', 'patient_nbr', \n",
    "              'weight', 'payer_code', 'medical_specialty', \n",
    "              'race', 'diag_1', 'diag_2', 'diag_3'], axis=1)\n",
    "df = df.loc[:, ~(df == '?').any()]\n",
    "df_x = df.drop(['readmitted'], axis=1)\n",
    "df_y = df['readmitted']\n",
    "y_full = np.array(df_y.values)\n",
    "y_full[y_full=='NO'] = 0\n",
    "y_full[y_full=='>30'] = 1\n",
    "y_full[y_full=='<30'] = 2\n",
    "y_full = np.array(y_full).astype('int32')\n",
    "categorical_variables = df_x.select_dtypes(include='object').columns.tolist()\n",
    "continuous_variables = df_x.select_dtypes(exclude='object').columns.tolist()\n",
    "\n",
    "\n",
    "\n",
    "from sklearn.preprocessing import StandardScaler, OneHotEncoder\n",
    "from sklearn.compose import ColumnTransformer\n",
    "from sklearn.model_selection import train_test_split\n",
    "ct_ss_ohe = ColumnTransformer(\n",
    "     [('scaling', StandardScaler(), continuous_variables), \n",
    "      ('onehot', OneHotEncoder(sparse=False), categorical_variables)])\n",
    "x_full = ct_ss_ohe.fit_transform(df_x)\n",
    "x_train, x_test, y_train, y_test = train_test_split(x_full, y_full, random_state=0)"
   ]
  },
  {
   "cell_type": "code",
   "execution_count": 3,
   "id": "e4c247ef",
   "metadata": {},
   "outputs": [
    {
     "name": "stdout",
     "output_type": "stream",
     "text": [
      "(76324, 97)\n",
      "(76324,)\n",
      "(25442, 97)\n",
      "(25442,)\n"
     ]
    }
   ],
   "source": [
    "print (x_train.shape)\n",
    "print (y_train.shape)\n",
    "print (x_test.shape)\n",
    "print (y_test.shape)"
   ]
  },
  {
   "cell_type": "code",
   "execution_count": 4,
   "id": "4e800653",
   "metadata": {},
   "outputs": [
    {
     "name": "stdout",
     "output_type": "stream",
     "text": [
      "(76324, 97)\n",
      "[[-0.70846069 -0.5143125   0.30648245 ...  1.          1.\n",
      "   0.        ]\n",
      " [ 4.13450367 -0.5143125   0.30648245 ...  0.          0.\n",
      "   1.        ]\n",
      " [-0.70846069 -0.5143125   0.30648245 ...  0.          0.\n",
      "   1.        ]\n",
      " ...\n",
      " [ 0.67524341 -0.5143125  -0.43169547 ...  1.          1.\n",
      "   0.        ]\n",
      " [ 0.67524341 -0.5143125  -1.16987339 ...  0.          0.\n",
      "   1.        ]\n",
      " [ 2.75079957  0.6220211   0.30648245 ...  1.          1.\n",
      "   0.        ]]\n"
     ]
    }
   ],
   "source": [
    "print (x_train.shape)\n",
    "print (x_train)"
   ]
  },
  {
   "cell_type": "code",
   "execution_count": 5,
   "id": "2da5f035",
   "metadata": {},
   "outputs": [
    {
     "name": "stdout",
     "output_type": "stream",
     "text": [
      "(25442, 97)\n",
      "[[ 0.67524341 -0.5143125  -1.16987339 ...  0.          0.\n",
      "   1.        ]\n",
      " [-0.70846069 -0.5143125   0.30648245 ...  0.          0.\n",
      "   1.        ]\n",
      " [-0.01660864 -0.5143125  -1.16987339 ...  0.          0.\n",
      "   1.        ]\n",
      " ...\n",
      " [-0.01660864 -0.5143125  -1.16987339 ...  1.          1.\n",
      "   0.        ]\n",
      " [-0.70846069  0.24324324  0.30648245 ...  0.          0.\n",
      "   1.        ]\n",
      " [-0.70846069 -0.5143125   0.30648245 ...  0.          0.\n",
      "   1.        ]]\n"
     ]
    }
   ],
   "source": [
    "print (x_test.shape)\n",
    "print (x_test)"
   ]
  },
  {
   "cell_type": "markdown",
   "id": "1e03d7a0",
   "metadata": {},
   "source": [
    "### KNN"
   ]
  },
  {
   "cell_type": "code",
   "execution_count": 25,
   "id": "f8188435",
   "metadata": {},
   "outputs": [],
   "source": [
    "from sklearn.neighbors import KNeighborsClassifier\n",
    "from sklearn.model_selection import GridSearchCV\n",
    "knn = KNeighborsClassifier(n_neighbors=6)\n",
    "knn = knn.fit(x_train, y_train)"
   ]
  },
  {
   "cell_type": "code",
   "execution_count": 26,
   "id": "83503147",
   "metadata": {},
   "outputs": [
    {
     "name": "stdout",
     "output_type": "stream",
     "text": [
      "0.5382438487540288\n"
     ]
    }
   ],
   "source": [
    "print (knn.score(x_test, y_test))"
   ]
  },
  {
   "cell_type": "code",
   "execution_count": 30,
   "id": "5fa459c5",
   "metadata": {},
   "outputs": [
    {
     "name": "stdout",
     "output_type": "stream",
     "text": [
      "(25442, 3)\n",
      "[[0.5        0.5        0.        ]\n",
      " [0.5        0.5        0.        ]\n",
      " [0.83333333 0.16666667 0.        ]\n",
      " ...\n",
      " [0.83333333 0.         0.16666667]\n",
      " [0.5        0.33333333 0.16666667]\n",
      " [0.33333333 0.66666667 0.        ]]\n"
     ]
    }
   ],
   "source": [
    "y_pred_knn = knn.predict_proba(x_test)\n",
    "print (y_pred_knn.shape)\n",
    "print (y_pred_knn)"
   ]
  },
  {
   "cell_type": "markdown",
   "id": "52e598b5",
   "metadata": {},
   "source": [
    "### Logistic Regression"
   ]
  },
  {
   "cell_type": "code",
   "execution_count": 9,
   "id": "2c858802",
   "metadata": {},
   "outputs": [],
   "source": [
    "from sklearn.linear_model import LogisticRegression\n",
    "from sklearn.model_selection import cross_val_score\n",
    "lr = LogisticRegression(solver='lbfgs', max_iter=10000)\n",
    "lr.fit(x_train, y_train)\n",
    "lr_scores = cross_val_score(lr, x_test, y_test, cv=10, scoring='accuracy')"
   ]
  },
  {
   "cell_type": "code",
   "execution_count": 10,
   "id": "4a3fe8a8",
   "metadata": {},
   "outputs": [
    {
     "name": "stdout",
     "output_type": "stream",
     "text": [
      "0.569215844361246\n"
     ]
    }
   ],
   "source": [
    "print (np.mean(lr_scores))"
   ]
  },
  {
   "cell_type": "code",
   "execution_count": 28,
   "id": "b7e87bdc",
   "metadata": {},
   "outputs": [
    {
     "name": "stdout",
     "output_type": "stream",
     "text": [
      "(25442, 3)\n",
      "[[ 0.7751157   0.24937677 -1.02449247]\n",
      " [ 0.55388775  0.37130111 -0.92518886]\n",
      " [ 0.9614593   0.19345379 -1.15491309]\n",
      " ...\n",
      " [ 0.47054311  0.27261721 -0.74316031]\n",
      " [ 1.01334976  0.12645978 -1.13980954]\n",
      " [ 0.38637124  0.46450808 -0.85087933]]\n"
     ]
    }
   ],
   "source": [
    "y_pred_lr = lr.decision_function(x_test)\n",
    "print (y_pred_lr.shape)\n",
    "print (y_pred_lr)"
   ]
  },
  {
   "cell_type": "markdown",
   "id": "0d8e6c8f",
   "metadata": {},
   "source": [
    "### Naive Bayes"
   ]
  },
  {
   "cell_type": "code",
   "execution_count": 11,
   "id": "8bc80e8e",
   "metadata": {},
   "outputs": [],
   "source": [
    "from sklearn.naive_bayes import GaussianNB\n",
    "from sklearn.model_selection import cross_val_score\n",
    "nb = GaussianNB()\n",
    "nb.fit(x_train, y_train)\n",
    "nb_scores = cross_val_score(nb, x_test, y_test, cv=10, scoring='accuracy')"
   ]
  },
  {
   "cell_type": "code",
   "execution_count": 12,
   "id": "b52b957e",
   "metadata": {},
   "outputs": [
    {
     "name": "stdout",
     "output_type": "stream",
     "text": [
      "0.11685392494841285\n",
      "0.11587139375835233\n"
     ]
    }
   ],
   "source": [
    "print (np.mean(nb_scores))\n",
    "print (nb.score(x_test, y_test))"
   ]
  },
  {
   "cell_type": "code",
   "execution_count": 37,
   "id": "78c51ffa",
   "metadata": {},
   "outputs": [
    {
     "name": "stdout",
     "output_type": "stream",
     "text": [
      "(25442, 3)\n",
      "[[7.46156346e-26 4.01335493e-23 1.00000000e+00]\n",
      " [4.14391706e-28 6.32727707e-23 1.00000000e+00]\n",
      " [1.13613295e-24 5.00211656e-22 1.00000000e+00]\n",
      " ...\n",
      " [7.10969542e-26 5.93445576e-23 1.00000000e+00]\n",
      " [2.12002489e-24 1.69927469e-35 1.00000000e+00]\n",
      " [1.99843844e-25 7.76829470e-22 1.00000000e+00]]\n"
     ]
    }
   ],
   "source": [
    "y_pred_nb = nb.predict_proba(x_test)\n",
    "print (y_pred_nb.shape)\n",
    "print (y_pred_nb)"
   ]
  },
  {
   "cell_type": "markdown",
   "id": "e45baacb",
   "metadata": {},
   "source": [
    "### Decision Tree"
   ]
  },
  {
   "cell_type": "code",
   "execution_count": 13,
   "id": "71decbab",
   "metadata": {},
   "outputs": [],
   "source": [
    "from sklearn import tree\n",
    "dt = tree.DecisionTreeClassifier()\n",
    "dt = dt.fit(x_train, y_train)\n",
    "dt_scores = cross_val_score(dt,x_test,y_test,cv=10,scoring='accuracy')"
   ]
  },
  {
   "cell_type": "code",
   "execution_count": 14,
   "id": "7dabced5",
   "metadata": {},
   "outputs": [
    {
     "name": "stdout",
     "output_type": "stream",
     "text": [
      "0.4686738085529648\n"
     ]
    }
   ],
   "source": [
    "print (np.mean(dt_scores))"
   ]
  },
  {
   "cell_type": "code",
   "execution_count": 36,
   "id": "d4bcfacc",
   "metadata": {},
   "outputs": [
    {
     "name": "stdout",
     "output_type": "stream",
     "text": [
      "(25442, 3)\n",
      "[[0. 1. 0.]\n",
      " [1. 0. 0.]\n",
      " [0. 0. 1.]\n",
      " ...\n",
      " [0. 1. 0.]\n",
      " [0. 1. 0.]\n",
      " [0. 0. 1.]]\n"
     ]
    }
   ],
   "source": [
    "y_pred_dt = dt.predict_proba(x_test)\n",
    "print (y_pred_dt.shape)\n",
    "print (y_pred_dt)"
   ]
  },
  {
   "cell_type": "markdown",
   "id": "f0b2c816",
   "metadata": {},
   "source": [
    "### SVM"
   ]
  },
  {
   "cell_type": "code",
   "execution_count": 18,
   "id": "08a80d59",
   "metadata": {},
   "outputs": [
    {
     "name": "stdout",
     "output_type": "stream",
     "text": [
      "0.5773524094017766\n"
     ]
    }
   ],
   "source": [
    "from sklearn.svm import SVC\n",
    "from sklearn.model_selection import GridSearchCV\n",
    "lsvm = SVC()\n",
    "lsvm.C = 10\n",
    "lsvm = lsvm.fit(x_train, y_train)\n",
    "print (lsvm.score(x_test, y_test))"
   ]
  },
  {
   "cell_type": "code",
   "execution_count": 33,
   "id": "e1bb66c2",
   "metadata": {},
   "outputs": [
    {
     "name": "stdout",
     "output_type": "stream",
     "text": [
      "(25442, 3)\n",
      "[[ 2.21371733  1.06291589 -0.22293456]\n",
      " [ 2.1852257   1.16431977 -0.22990501]\n",
      " [ 2.22871032  0.9383186  -0.22068197]\n",
      " ...\n",
      " [ 1.0732407   2.21549719 -0.22616534]\n",
      " [ 2.21801657  0.91012206 -0.20113231]\n",
      " [ 1.12509171  2.19496607 -0.22258225]]\n"
     ]
    }
   ],
   "source": [
    "y_pred_svm = lsvm.decision_function(x_test)\n",
    "print (y_pred_svm.shape)\n",
    "print (y_pred_svm)"
   ]
  },
  {
   "cell_type": "markdown",
   "id": "0a0a801b",
   "metadata": {},
   "source": [
    "### MLP"
   ]
  },
  {
   "cell_type": "code",
   "execution_count": 19,
   "id": "b47a451d",
   "metadata": {},
   "outputs": [
    {
     "name": "stdout",
     "output_type": "stream",
     "text": [
      "0.5697272227026177\n"
     ]
    }
   ],
   "source": [
    "from sklearn.neural_network import MLPClassifier\n",
    "mlp = MLPClassifier(random_state=0, max_iter=10000).fit(x_train, y_train)\n",
    "print (mlp.score(x_test, y_test))"
   ]
  },
  {
   "cell_type": "code",
   "execution_count": 34,
   "id": "b88184a5",
   "metadata": {},
   "outputs": [
    {
     "name": "stdout",
     "output_type": "stream",
     "text": [
      "(25442, 3)\n",
      "[[0.4369223  0.500584   0.0624937 ]\n",
      " [0.49267918 0.33066982 0.176651  ]\n",
      " [0.68632613 0.13214772 0.18152616]\n",
      " ...\n",
      " [0.14351615 0.7988755  0.05760836]\n",
      " [0.82646051 0.11915431 0.05438518]\n",
      " [0.32341545 0.57849808 0.09808647]]\n"
     ]
    }
   ],
   "source": [
    "y_pred_mlp = mlp.predict_proba(x_test)\n",
    "print (y_pred_mlp.shape)\n",
    "print (y_pred_mlp)"
   ]
  },
  {
   "cell_type": "code",
   "execution_count": 38,
   "id": "e67d8838",
   "metadata": {},
   "outputs": [
    {
     "ename": "ValueError",
     "evalue": "multiclass format is not supported",
     "output_type": "error",
     "traceback": [
      "\u001b[0;31m---------------------------------------------------------------------------\u001b[0m",
      "\u001b[0;31mValueError\u001b[0m                                Traceback (most recent call last)",
      "\u001b[0;32m/var/folders/29/2s0yhtd102s_q9djb8hn6gl00000gn/T/ipykernel_10334/2650447254.py\u001b[0m in \u001b[0;36m<module>\u001b[0;34m\u001b[0m\n\u001b[1;32m      1\u001b[0m \u001b[0;32mfrom\u001b[0m \u001b[0msklearn\u001b[0m\u001b[0;34m.\u001b[0m\u001b[0mmetrics\u001b[0m \u001b[0;32mimport\u001b[0m \u001b[0mroc_curve\u001b[0m\u001b[0;34m,\u001b[0m \u001b[0mauc\u001b[0m\u001b[0;34m\u001b[0m\u001b[0;34m\u001b[0m\u001b[0m\n\u001b[0;32m----> 2\u001b[0;31m \u001b[0mlr_fpr\u001b[0m\u001b[0;34m,\u001b[0m \u001b[0mlr_tpr\u001b[0m\u001b[0;34m,\u001b[0m \u001b[0mthreshold\u001b[0m \u001b[0;34m=\u001b[0m \u001b[0mroc_curve\u001b[0m\u001b[0;34m(\u001b[0m\u001b[0my_test\u001b[0m\u001b[0;34m,\u001b[0m \u001b[0my_pred_lr\u001b[0m\u001b[0;34m)\u001b[0m\u001b[0;34m\u001b[0m\u001b[0;34m\u001b[0m\u001b[0m\n\u001b[0m",
      "\u001b[0;32m~/Library/Python/3.8/lib/python/site-packages/sklearn/utils/validation.py\u001b[0m in \u001b[0;36minner_f\u001b[0;34m(*args, **kwargs)\u001b[0m\n\u001b[1;32m     61\u001b[0m             \u001b[0mextra_args\u001b[0m \u001b[0;34m=\u001b[0m \u001b[0mlen\u001b[0m\u001b[0;34m(\u001b[0m\u001b[0margs\u001b[0m\u001b[0;34m)\u001b[0m \u001b[0;34m-\u001b[0m \u001b[0mlen\u001b[0m\u001b[0;34m(\u001b[0m\u001b[0mall_args\u001b[0m\u001b[0;34m)\u001b[0m\u001b[0;34m\u001b[0m\u001b[0;34m\u001b[0m\u001b[0m\n\u001b[1;32m     62\u001b[0m             \u001b[0;32mif\u001b[0m \u001b[0mextra_args\u001b[0m \u001b[0;34m<=\u001b[0m \u001b[0;36m0\u001b[0m\u001b[0;34m:\u001b[0m\u001b[0;34m\u001b[0m\u001b[0;34m\u001b[0m\u001b[0m\n\u001b[0;32m---> 63\u001b[0;31m                 \u001b[0;32mreturn\u001b[0m \u001b[0mf\u001b[0m\u001b[0;34m(\u001b[0m\u001b[0;34m*\u001b[0m\u001b[0margs\u001b[0m\u001b[0;34m,\u001b[0m \u001b[0;34m**\u001b[0m\u001b[0mkwargs\u001b[0m\u001b[0;34m)\u001b[0m\u001b[0;34m\u001b[0m\u001b[0;34m\u001b[0m\u001b[0m\n\u001b[0m\u001b[1;32m     64\u001b[0m \u001b[0;34m\u001b[0m\u001b[0m\n\u001b[1;32m     65\u001b[0m             \u001b[0;31m# extra_args > 0\u001b[0m\u001b[0;34m\u001b[0m\u001b[0;34m\u001b[0m\u001b[0;34m\u001b[0m\u001b[0m\n",
      "\u001b[0;32m~/Library/Python/3.8/lib/python/site-packages/sklearn/metrics/_ranking.py\u001b[0m in \u001b[0;36mroc_curve\u001b[0;34m(y_true, y_score, pos_label, sample_weight, drop_intermediate)\u001b[0m\n\u001b[1;32m    911\u001b[0m \u001b[0;34m\u001b[0m\u001b[0m\n\u001b[1;32m    912\u001b[0m     \"\"\"\n\u001b[0;32m--> 913\u001b[0;31m     fps, tps, thresholds = _binary_clf_curve(\n\u001b[0m\u001b[1;32m    914\u001b[0m         y_true, y_score, pos_label=pos_label, sample_weight=sample_weight)\n\u001b[1;32m    915\u001b[0m \u001b[0;34m\u001b[0m\u001b[0m\n",
      "\u001b[0;32m~/Library/Python/3.8/lib/python/site-packages/sklearn/metrics/_ranking.py\u001b[0m in \u001b[0;36m_binary_clf_curve\u001b[0;34m(y_true, y_score, pos_label, sample_weight)\u001b[0m\n\u001b[1;32m    689\u001b[0m     if not (y_type == \"binary\" or\n\u001b[1;32m    690\u001b[0m             (y_type == \"multiclass\" and pos_label is not None)):\n\u001b[0;32m--> 691\u001b[0;31m         \u001b[0;32mraise\u001b[0m \u001b[0mValueError\u001b[0m\u001b[0;34m(\u001b[0m\u001b[0;34m\"{0} format is not supported\"\u001b[0m\u001b[0;34m.\u001b[0m\u001b[0mformat\u001b[0m\u001b[0;34m(\u001b[0m\u001b[0my_type\u001b[0m\u001b[0;34m)\u001b[0m\u001b[0;34m)\u001b[0m\u001b[0;34m\u001b[0m\u001b[0;34m\u001b[0m\u001b[0m\n\u001b[0m\u001b[1;32m    692\u001b[0m \u001b[0;34m\u001b[0m\u001b[0m\n\u001b[1;32m    693\u001b[0m     \u001b[0mcheck_consistent_length\u001b[0m\u001b[0;34m(\u001b[0m\u001b[0my_true\u001b[0m\u001b[0;34m,\u001b[0m \u001b[0my_score\u001b[0m\u001b[0;34m,\u001b[0m \u001b[0msample_weight\u001b[0m\u001b[0;34m)\u001b[0m\u001b[0;34m\u001b[0m\u001b[0;34m\u001b[0m\u001b[0m\n",
      "\u001b[0;31mValueError\u001b[0m: multiclass format is not supported"
     ]
    }
   ],
   "source": [
    "from sklearn.metrics import roc_curve, auc\n",
    "lr_fpr, lr_tpr, threshold = roc_curve(y_test, y_pred_lr)"
   ]
  },
  {
   "cell_type": "code",
   "execution_count": null,
   "id": "e811f70e",
   "metadata": {},
   "outputs": [],
   "source": []
  }
 ],
 "metadata": {
  "kernelspec": {
   "display_name": "Python 3 (ipykernel)",
   "language": "python",
   "name": "python3"
  },
  "language_info": {
   "codemirror_mode": {
    "name": "ipython",
    "version": 3
   },
   "file_extension": ".py",
   "mimetype": "text/x-python",
   "name": "python",
   "nbconvert_exporter": "python",
   "pygments_lexer": "ipython3",
   "version": "3.8.9"
  }
 },
 "nbformat": 4,
 "nbformat_minor": 5
}
